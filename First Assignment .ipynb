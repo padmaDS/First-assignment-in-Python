{
 "cells": [
  {
   "cell_type": "code",
   "execution_count": 1,
   "id": "37bf1356",
   "metadata": {},
   "outputs": [],
   "source": [
    "s = \"this is My First Python Programming class adm ia m learNING python string and its functions\""
   ]
  },
  {
   "cell_type": "code",
   "execution_count": 2,
   "id": "b6655abc",
   "metadata": {},
   "outputs": [
    {
     "data": {
      "text/plain": [
       "'this is My First Python Programming class adm ia m learNING python string and its functions'"
      ]
     },
     "execution_count": 2,
     "metadata": {},
     "output_type": "execute_result"
    }
   ],
   "source": [
    "s"
   ]
  },
  {
   "cell_type": "code",
   "execution_count": null,
   "id": "823c63d8",
   "metadata": {},
   "outputs": [],
   "source": [
    "Extract data from index 1 to 300 with a jump of 3"
   ]
  },
  {
   "cell_type": "code",
   "execution_count": 3,
   "id": "90539bcc",
   "metadata": {},
   "outputs": [
    {
     "data": {
      "text/plain": [
       "'h   r tnrrmglsdimeNGyosi dtfco'"
      ]
     },
     "execution_count": 3,
     "metadata": {},
     "output_type": "execute_result"
    }
   ],
   "source": [
    "s[1:300:3]"
   ]
  },
  {
   "cell_type": "code",
   "execution_count": 4,
   "id": "02d03556",
   "metadata": {},
   "outputs": [
    {
     "ename": "SyntaxError",
     "evalue": "invalid syntax (Temp/ipykernel_9756/4158428574.py, line 1)",
     "output_type": "error",
     "traceback": [
      "\u001b[1;36m  File \u001b[1;32m\"C:\\Users\\SREEDH~1\\AppData\\Local\\Temp/ipykernel_9756/4158428574.py\"\u001b[1;36m, line \u001b[1;32m1\u001b[0m\n\u001b[1;33m    Try to reverse the string with out using reverse function\u001b[0m\n\u001b[1;37m        ^\u001b[0m\n\u001b[1;31mSyntaxError\u001b[0m\u001b[1;31m:\u001b[0m invalid syntax\n"
     ]
    }
   ],
   "source": [
    "Try to reverse the string with out using reverse function"
   ]
  },
  {
   "cell_type": "code",
   "execution_count": 5,
   "id": "def03b95",
   "metadata": {},
   "outputs": [
    {
     "data": {
      "text/plain": [
       "'snoitcnuf sti dna gnirts nohtyp GNINrael m ai mda ssalc gnimmargorP nohtyP tsriF yM si siht'"
      ]
     },
     "execution_count": 5,
     "metadata": {},
     "output_type": "execute_result"
    }
   ],
   "source": [
    "s[::-1]"
   ]
  },
  {
   "cell_type": "code",
   "execution_count": 7,
   "id": "55126674",
   "metadata": {},
   "outputs": [],
   "source": [
    "s1 = s.upper()"
   ]
  },
  {
   "cell_type": "markdown",
   "id": "2bd1f9d5",
   "metadata": {},
   "source": [
    "# "
   ]
  },
  {
   "cell_type": "code",
   "execution_count": 8,
   "id": "8bd93c30",
   "metadata": {},
   "outputs": [
    {
     "data": {
      "text/plain": [
       "'THIS IS MY FIRST PYTHON PROGRAMMING CLASS ADM IA M LEARNING PYTHON STRING AND ITS FUNCTIONS'"
      ]
     },
     "execution_count": 8,
     "metadata": {},
     "output_type": "execute_result"
    }
   ],
   "source": [
    "s1"
   ]
  },
  {
   "cell_type": "code",
   "execution_count": null,
   "id": "07fa107e",
   "metadata": {},
   "outputs": [],
   "source": [
    "Split a string after converstion of entire string in Upper case"
   ]
  },
  {
   "cell_type": "code",
   "execution_count": 9,
   "id": "5788bb24",
   "metadata": {},
   "outputs": [
    {
     "data": {
      "text/plain": [
       "['THIS',\n",
       " 'IS',\n",
       " 'MY',\n",
       " 'FIRST',\n",
       " 'PYTHON',\n",
       " 'PROGRAMMING',\n",
       " 'CLASS',\n",
       " 'ADM',\n",
       " 'IA',\n",
       " 'M',\n",
       " 'LEARNING',\n",
       " 'PYTHON',\n",
       " 'STRING',\n",
       " 'AND',\n",
       " 'ITS',\n",
       " 'FUNCTIONS']"
      ]
     },
     "execution_count": 9,
     "metadata": {},
     "output_type": "execute_result"
    }
   ],
   "source": [
    "s1.split()"
   ]
  },
  {
   "cell_type": "code",
   "execution_count": null,
   "id": "87bf4b64",
   "metadata": {},
   "outputs": [],
   "source": [
    "Convert the whole string into lower case"
   ]
  },
  {
   "cell_type": "code",
   "execution_count": 10,
   "id": "4e9d33dc",
   "metadata": {},
   "outputs": [
    {
     "data": {
      "text/plain": [
       "'this is my first python programming class adm ia m learning python string and its functions'"
      ]
     },
     "execution_count": 10,
     "metadata": {},
     "output_type": "execute_result"
    }
   ],
   "source": [
    "s1.lower()"
   ]
  },
  {
   "cell_type": "code",
   "execution_count": 11,
   "id": "de137783",
   "metadata": {},
   "outputs": [
    {
     "data": {
      "text/plain": [
       "'This is my first python programming class adm ia m learning python string and its functions'"
      ]
     },
     "execution_count": 11,
     "metadata": {},
     "output_type": "execute_result"
    }
   ],
   "source": [
    "s.capitalize()"
   ]
  },
  {
   "cell_type": "code",
   "execution_count": null,
   "id": "eaec85e3",
   "metadata": {},
   "outputs": [],
   "source": [
    "Difference b/n isalnum() and isalpha()\n",
    "isalnum() :if the given string is either alphabets or nummerical values then its give us the out put as 'True' other wise 'False'\n",
    "isalpha(): if the give string is completely into alphabets then its gives us output as \"True\" otherswise \"False\""
   ]
  },
  {
   "cell_type": "code",
   "execution_count": 12,
   "id": "4656ba31",
   "metadata": {},
   "outputs": [],
   "source": [
    "s2 = 'padma\\tbujji\\tpapa\\tpandu'"
   ]
  },
  {
   "cell_type": "code",
   "execution_count": 13,
   "id": "30ce69c5",
   "metadata": {},
   "outputs": [
    {
     "data": {
      "text/plain": [
       "'padma   bujji   papa    pandu'"
      ]
     },
     "execution_count": 13,
     "metadata": {},
     "output_type": "execute_result"
    }
   ],
   "source": [
    "s2.expandtabs()"
   ]
  },
  {
   "cell_type": "code",
   "execution_count": null,
   "id": "6ce963fd",
   "metadata": {},
   "outputs": [],
   "source": [
    "Example of strip, lstrp and rstrip"
   ]
  },
  {
   "cell_type": "code",
   "execution_count": 14,
   "id": "3cbc7234",
   "metadata": {},
   "outputs": [],
   "source": [
    "s3 = '    God is great    '"
   ]
  },
  {
   "cell_type": "code",
   "execution_count": 15,
   "id": "c3d5568a",
   "metadata": {},
   "outputs": [
    {
     "data": {
      "text/plain": [
       "'    God is great    '"
      ]
     },
     "execution_count": 15,
     "metadata": {},
     "output_type": "execute_result"
    }
   ],
   "source": [
    "s3"
   ]
  },
  {
   "cell_type": "code",
   "execution_count": 16,
   "id": "97b58caa",
   "metadata": {},
   "outputs": [
    {
     "data": {
      "text/plain": [
       "'God is great'"
      ]
     },
     "execution_count": 16,
     "metadata": {},
     "output_type": "execute_result"
    }
   ],
   "source": [
    "s3.strip()"
   ]
  },
  {
   "cell_type": "code",
   "execution_count": 18,
   "id": "833e3ffd",
   "metadata": {},
   "outputs": [
    {
     "data": {
      "text/plain": [
       "'God is great    '"
      ]
     },
     "execution_count": 18,
     "metadata": {},
     "output_type": "execute_result"
    }
   ],
   "source": [
    "s3.lstrip()"
   ]
  },
  {
   "cell_type": "code",
   "execution_count": 19,
   "id": "63439102",
   "metadata": {},
   "outputs": [
    {
     "data": {
      "text/plain": [
       "'    God is great'"
      ]
     },
     "execution_count": 19,
     "metadata": {},
     "output_type": "execute_result"
    }
   ],
   "source": [
    "s3.rstrip()"
   ]
  },
  {
   "cell_type": "code",
   "execution_count": null,
   "id": "18986522",
   "metadata": {},
   "outputs": [],
   "source": [
    "Replace a string character by another character"
   ]
  },
  {
   "cell_type": "code",
   "execution_count": 20,
   "id": "9116be64",
   "metadata": {},
   "outputs": [],
   "source": [
    "s4 = 'great vision'"
   ]
  },
  {
   "cell_type": "code",
   "execution_count": 21,
   "id": "92228ab9",
   "metadata": {},
   "outputs": [],
   "source": [
    "s5 = s4.upper()"
   ]
  },
  {
   "cell_type": "code",
   "execution_count": 22,
   "id": "e2f8118a",
   "metadata": {},
   "outputs": [
    {
     "data": {
      "text/plain": [
       "'GREAT VISION'"
      ]
     },
     "execution_count": 22,
     "metadata": {},
     "output_type": "execute_result"
    }
   ],
   "source": [
    "s5"
   ]
  },
  {
   "cell_type": "code",
   "execution_count": 23,
   "id": "bfa79d17",
   "metadata": {},
   "outputs": [
    {
     "data": {
      "text/plain": [
       "'great vision'"
      ]
     },
     "execution_count": 23,
     "metadata": {},
     "output_type": "execute_result"
    }
   ],
   "source": [
    "s5.lower()"
   ]
  },
  {
   "cell_type": "code",
   "execution_count": null,
   "id": "2b596804",
   "metadata": {},
   "outputs": [],
   "source": [
    "String Center function:\n",
    "This function will try to put our given string in center or middle. let us take the below example"
   ]
  },
  {
   "cell_type": "code",
   "execution_count": 24,
   "id": "e968aaa2",
   "metadata": {},
   "outputs": [],
   "source": [
    "s6 = 'datascience'"
   ]
  },
  {
   "cell_type": "code",
   "execution_count": 25,
   "id": "0f1ab9f0",
   "metadata": {},
   "outputs": [
    {
     "data": {
      "text/plain": [
       "'&&&&datascience&&&&&'"
      ]
     },
     "execution_count": 25,
     "metadata": {},
     "output_type": "execute_result"
    }
   ],
   "source": [
    "s6.center(20,'&')"
   ]
  },
  {
   "cell_type": "code",
   "execution_count": 26,
   "id": "e774171f",
   "metadata": {},
   "outputs": [
    {
     "data": {
      "text/plain": [
       "'#########datascience##########'"
      ]
     },
     "execution_count": 26,
     "metadata": {},
     "output_type": "execute_result"
    }
   ],
   "source": [
    "s6.center(30,'#')"
   ]
  },
  {
   "cell_type": "code",
   "execution_count": null,
   "id": "8ebcd923",
   "metadata": {},
   "outputs": [],
   "source": [
    "Compilter and interpreter:\n",
    "Compilter : its scans the entire code, if not find any error , it will gives us the output.\n",
    "    if error comes, we need to check the entire code. It takes lot of time to rectify the error and to get the output.\n",
    "\n",
    "    Interpreter : It checks the entire code in one signle statement. each and every statement code is checked / scanned by the \n",
    "        interpreter. If its error free, we can get the output. if any errors will come, we can review the code by single statement.\n",
    "        So, its easy to find out and rectify the errors in interpreter. It saves time to get the early output."
   ]
  },
  {
   "cell_type": "code",
   "execution_count": null,
   "id": "739634b6",
   "metadata": {},
   "outputs": [],
   "source": [
    "Python is a compiler or interpreted language:\n",
    "    \n",
    "    Python is a 'interpreted' language. It verifies the code step by step to provide us the output."
   ]
  },
  {
   "cell_type": "code",
   "execution_count": null,
   "id": "daa8e89b",
   "metadata": {},
   "outputs": [],
   "source": [
    "Python Usecases:\n",
    "1. We can use python is webbased applications\n",
    "2. in data analysis and data visualizations\n",
    "3. in developing of websites\n",
    "4. in mobile development applications\n",
    "5. in developing of video gaming applications\n",
    "6. in Artificial intelligence also we can use this python, \n",
    "since its a open source, we can modify or change the code\n",
    "   based on our requirement."
   ]
  }
 ],
 "metadata": {
  "kernelspec": {
   "display_name": "Python 3 (ipykernel)",
   "language": "python",
   "name": "python3"
  },
  "language_info": {
   "codemirror_mode": {
    "name": "ipython",
    "version": 3
   },
   "file_extension": ".py",
   "mimetype": "text/x-python",
   "name": "python",
   "nbconvert_exporter": "python",
   "pygments_lexer": "ipython3",
   "version": "3.9.7"
  }
 },
 "nbformat": 4,
 "nbformat_minor": 5
}
